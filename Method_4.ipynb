{
 "cells": [
  {
   "cell_type": "code",
   "execution_count": 1,
   "id": "a0878fbc",
   "metadata": {},
   "outputs": [
    {
     "name": "stderr",
     "output_type": "stream",
     "text": [
      "<ipython-input-1-2d5ebeba70c1>:22: FutureWarning: Passing a negative integer is deprecated in version 1.0 and will not be supported in future version. Instead, use None to not limit the column width.\n",
      "  pd.set_option('display.max_colwidth', -1)  #Displays all the text in each cell, without truncation\n"
     ]
    },
    {
     "name": "stdout",
     "output_type": "stream",
     "text": [
      "Patient ID                                               0.000000\n",
      "Patient age quantile                                     0.000000\n",
      "SARS-Cov-2 exam result                                   0.000000\n",
      "Patient addmited to regular ward (1=yes, 0=no)           0.000000\n",
      "Patient addmited to semi-intensive unit (1=yes, 0=no)    0.000000\n",
      "Patient addmited to intensive care unit (1=yes, 0=no)    0.000000\n",
      "Hematocrit                                               0.893161\n",
      "Hemoglobin                                               0.893161\n",
      "Platelets                                                0.893338\n",
      "Mean platelet volume                                     0.893870\n",
      "Red blood Cells                                          0.893338\n",
      "Lymphocytes                                              0.893338\n",
      "Mean corpuscular hemoglobin concentration (MCHC)         0.893338\n",
      "Leukocytes                                               0.893338\n",
      "Basophils                                                0.893338\n",
      "Mean corpuscular hemoglobin (MCH)                        0.893338\n",
      "Eosinophils                                              0.893338\n",
      "Mean corpuscular volume (MCV)                            0.893338\n",
      "Monocytes                                                0.893515\n",
      "Red blood cell distribution width (RDW)                  0.893338\n",
      "Serum Glucose                                            0.963147\n",
      "Respiratory Syncytial Virus                              0.760099\n",
      "Influenza A                                              0.760099\n",
      "Influenza B                                              0.760099\n",
      "Parainfluenza 1                                          0.760454\n",
      "CoronavirusNL63                                          0.760454\n",
      "Rhinovirus/Enterovirus                                   0.760454\n",
      "Mycoplasma pneumoniae                                    1.000000\n",
      "Coronavirus HKU1                                         0.760454\n",
      "Parainfluenza 3                                          0.760454\n",
      "Chlamydophila pneumoniae                                 0.760454\n",
      "Adenovirus                                               0.760454\n",
      "Parainfluenza 4                                          0.760454\n",
      "Coronavirus229E                                          0.760454\n",
      "CoronavirusOC43                                          0.760454\n",
      "Inf A H1N1 2009                                          0.760454\n",
      "Bordetella pertussis                                     0.760454\n",
      "Metapneumovirus                                          0.760454\n",
      "Parainfluenza 2                                          0.760454\n",
      "Neutrophils                                              0.909107\n",
      "Urea                                                     0.929660\n",
      "Proteina C reativa mg/dL                                 0.910347\n",
      "Creatinine                                               0.924876\n",
      "Potassium                                                0.934266\n",
      "Sodium                                                   0.934444\n",
      "Influenza B, rapid test                                  0.854713\n",
      "Influenza A, rapid test                                  0.854713\n",
      "Alanine transaminase                                     0.960135\n",
      "Aspartate transaminase                                   0.959957\n",
      "Gamma-glutamyltransferase                                0.972892\n",
      "Total Bilirubin                                          0.967753\n",
      "Direct Bilirubin                                         0.967753\n",
      "Indirect Bilirubin                                       0.967753\n",
      "Alkaline phosphatase                                     0.974486\n",
      "Ionized calcium                                          0.991141\n",
      "Strepto A                                                0.941176\n",
      "Magnesium                                                0.992913\n",
      "pCO2 (venous blood gas analysis)                         0.975904\n",
      "Hb saturation (venous blood gas analysis)                0.975904\n",
      "Base excess (venous blood gas analysis)                  0.975904\n",
      "pO2 (venous blood gas analysis)                          0.975904\n",
      "Fio2 (venous blood gas analysis)                         0.999823\n",
      "Total CO2 (venous blood gas analysis)                    0.975904\n",
      "pH (venous blood gas analysis)                           0.975904\n",
      "HCO3 (venous blood gas analysis)                         0.975904\n",
      "Rods #                                                   0.982814\n",
      "Segmented                                                0.982814\n",
      "Promyelocytes                                            0.982814\n",
      "Metamyelocytes                                           0.982814\n",
      "Myelocytes                                               0.982814\n",
      "Myeloblasts                                              0.982814\n",
      "Urine - Esterase                                         0.989369\n",
      "Urine - Aspect                                           0.987597\n",
      "Urine - pH                                               0.987597\n",
      "Urine - Hemoglobin                                       0.987597\n",
      "Urine - Bile pigments                                    0.987597\n",
      "Urine - Ketone Bodies                                    0.989901\n",
      "Urine - Nitrite                                          0.999823\n",
      "Urine - Density                                          0.987597\n",
      "Urine - Urobilinogen                                     0.987775\n",
      "Urine - Protein                                          0.989369\n",
      "Urine - Sugar                                            1.000000\n",
      "Urine - Leukocytes                                       0.987597\n",
      "Urine - Crystals                                         0.987597\n",
      "Urine - Red blood cells                                  0.987597\n",
      "Urine - Hyaline cylinders                                0.988129\n",
      "Urine - Granular cylinders                               0.987775\n",
      "Urine - Yeasts                                           0.987597\n",
      "Urine - Color                                            0.987597\n",
      "Partial thromboplastin time (PTT)                        1.000000\n",
      "Relationship (Patient/Normal)                            0.983877\n",
      "International normalized ratio (INR)                     0.976435\n",
      "Lactic Dehydrogenase                                     0.982105\n",
      "Prothrombin time (PT), Activity                          1.000000\n",
      "Vitamin B12                                              0.999468\n",
      "Creatine phosphokinase (CPK)                             0.981573\n",
      "Ferritin                                                 0.995925\n",
      "Arterial Lactic Acid                                     0.995216\n",
      "Lipase dosage                                            0.998583\n",
      "D-Dimer                                                  1.000000\n",
      "Albumin                                                  0.997697\n",
      "Hb saturation (arterial blood gases)                     0.995216\n",
      "pCO2 (arterial blood gas analysis)                       0.995216\n",
      "Base excess (arterial blood gas analysis)                0.995216\n",
      "pH (arterial blood gas analysis)                         0.995216\n",
      "Total CO2 (arterial blood gas analysis)                  0.995216\n",
      "HCO3 (arterial blood gas analysis)                       0.995216\n",
      "pO2 (arterial blood gas analysis)                        0.995216\n",
      "Arteiral Fio2                                            0.996456\n",
      "Phosphor                                                 0.996456\n",
      "ctO2 (arterial blood gas analysis)                       0.995216\n",
      "dtype: float64\n",
      "['Hematocrit', 'Hemoglobin', 'Platelets', 'Mean platelet volume ', 'Red blood Cells', 'Lymphocytes', 'Mean corpuscular hemoglobin concentration\\xa0(MCHC)', 'Leukocytes', 'Basophils', 'Mean corpuscular hemoglobin (MCH)', 'Eosinophils', 'Mean corpuscular volume (MCV)', 'Monocytes', 'Red blood cell distribution width (RDW)']\n"
     ]
    },
    {
     "data": {
      "image/png": "[encoded data removed]",
      "text/plain": [
       "<Figure size 432x288 with 1 Axes>"
      ]
     },
     "metadata": {
      "needs_background": "light"
     },
     "output_type": "display_data"
    }
   ],
   "source": [
    "#import libraries\n",
    "\n",
    "import pandas as pd\n",
    "import numpy as np\n",
    "import matplotlib.pyplot as plt\n",
    "import seaborn as sns\n",
    "\n",
    "data = pd.read_excel(\"C:\\\\Users\\\\dell\\\\Machine Learning Assignment\\\\26-Apr\\\\dataset.xlsx\")\n",
    "data\n",
    "\n",
    "data['SARS-Cov-2 exam result'].value_counts()\n",
    "\n",
    "data['SARS-Cov-2 exam result'].value_counts(normalize=True).plot.bar()\n",
    "\n",
    "missing_data = data.isna().sum()/data.shape[0] #sum() to count the number of missing values in each column\n",
    "#print(data.isnull().mean())                   #mean() to calculate the fraction of missing values in each column\n",
    "\n",
    "# set the display options to show all columns\n",
    "pd.set_option('display.max_columns', None) #Displays all columns in a dataframe, without truncation\n",
    "pd.set_option('display.max_rows', None)    #Displays all rows in a dataframe, without truncation\n",
    "pd.set_option('display.width', None)       #Displays the dataframe without line wrapping\n",
    "pd.set_option('display.max_colwidth', -1)  #Displays all the text in each cell, without truncation\n",
    "\n",
    "print(missing_data)\n",
    "\n",
    "\n",
    "#Selects the columns with missing data between 86% and 90% and assigns them to a list called \"blood\"\n",
    "\n",
    "blood = list(data.columns[(missing_data > 0.86) & (missing_data < 0.9)])\n",
    "print(blood)\n",
    "\n",
    "data = data[['SARS-Cov-2 exam result'] + blood]\n",
    "\n",
    "from sklearn.model_selection import train_test_split\n",
    "train, test = train_test_split(data, test_size=0.2, random_state=0)\n",
    "\n",
    "# Encode categorical variables\n",
    "def encode(data): \n",
    "    encoder = {\"not_detected\": 0, \"negative\": 0, \"detected\": 1, \"positive\": 1}\n",
    "    for column in data.select_dtypes(include=['object']):\n",
    "        data.loc[:, column] = data[column].map(encoder)\n",
    "    return data\n",
    "\n",
    "# Drop NA\n",
    "def impute(data):\n",
    "    data = data.dropna(axis=0)\n",
    "    return  data\n",
    "\n",
    "def preprocessing(data):    \n",
    "    data = encode(data) \n",
    "    data = impute(data)\n",
    "    \n",
    "    X = data.drop('SARS-Cov-2 exam result', axis=1)\n",
    "    y = data['SARS-Cov-2 exam result']\n",
    "    \n",
    "    print(y.value_counts())\n",
    "    \n",
    "    return X, y"
   ]
  },
  {
   "cell_type": "code",
   "execution_count": 2,
   "id": "6e993859",
   "metadata": {},
   "outputs": [
    {
     "name": "stdout",
     "output_type": "stream",
     "text": [
      "0    422\n",
      "1    65 \n",
      "Name: SARS-Cov-2 exam result, dtype: int64\n"
     ]
    }
   ],
   "source": [
    "X_train, y_train = preprocessing(train)"
   ]
  },
  {
   "cell_type": "code",
   "execution_count": 3,
   "id": "1812da16",
   "metadata": {},
   "outputs": [
    {
     "name": "stdout",
     "output_type": "stream",
     "text": [
      "0    95\n",
      "1    16\n",
      "Name: SARS-Cov-2 exam result, dtype: int64\n"
     ]
    }
   ],
   "source": [
    "X_test, y_test = preprocessing(test)"
   ]
  },
  {
   "cell_type": "code",
   "execution_count": 4,
   "id": "9a120312",
   "metadata": {},
   "outputs": [
    {
     "name": "stdout",
     "output_type": "stream",
     "text": [
      "Logistic Regression\n",
      "Accuracy: 0.8468\n",
      "Confusion matrix:\n",
      "[[93  2]\n",
      " [15  1]]\n",
      "F1 score: 0.7994\n",
      "Recall score: 0.8468\n",
      "Precision score: 0.7850\n",
      "--------------\n"
     ]
    },
    {
     "data": {
      "image/png": "[encoded data removed]",
      "text/plain": [
       "<Figure size 432x288 with 2 Axes>"
      ]
     },
     "metadata": {
      "needs_background": "light"
     },
     "output_type": "display_data"
    },
    {
     "name": "stdout",
     "output_type": "stream",
     "text": [
      "K Nearest Neighbors\n",
      "Accuracy: 0.8559\n",
      "Confusion matrix:\n",
      "[[91  4]\n",
      " [12  4]]\n",
      "F1 score: 0.8347\n",
      "Recall score: 0.8559\n",
      "Precision score: 0.8282\n",
      "--------------\n"
     ]
    },
    {
     "data": {
      "image/png": "[encoded data removed]",
      "text/plain": [
       "<Figure size 432x288 with 2 Axes>"
      ]
     },
     "metadata": {
      "needs_background": "light"
     },
     "output_type": "display_data"
    },
    {
     "name": "stdout",
     "output_type": "stream",
     "text": [
      "Decision Tree\n",
      "Accuracy: 0.8559\n",
      "Confusion matrix:\n",
      "[[89  6]\n",
      " [10  6]]\n",
      "F1 score: 0.8470\n",
      "Recall score: 0.8559\n",
      "Precision score: 0.8415\n",
      "--------------\n"
     ]
    },
    {
     "data": {
      "image/png": "[encoded data removed]",
      "text/plain": [
       "<Figure size 432x288 with 2 Axes>"
      ]
     },
     "metadata": {
      "needs_background": "light"
     },
     "output_type": "display_data"
    },
    {
     "name": "stdout",
     "output_type": "stream",
     "text": [
      "Random Forest\n",
      "Accuracy: 0.8559\n",
      "Confusion matrix:\n",
      "[[94  1]\n",
      " [15  1]]\n",
      "F1 score: 0.8047\n",
      "Recall score: 0.8559\n",
      "Precision score: 0.8101\n",
      "--------------\n"
     ]
    },
    {
     "data": {
      "image/png": "[encoded data removed]",
      "text/plain": [
       "<Figure size 432x288 with 2 Axes>"
      ]
     },
     "metadata": {
      "needs_background": "light"
     },
     "output_type": "display_data"
    },
    {
     "name": "stdout",
     "output_type": "stream",
     "text": [
      "AdaBoost\n",
      "Accuracy: 0.8468\n",
      "Confusion matrix:\n",
      "[[88  7]\n",
      " [10  6]]\n",
      "F1 score: 0.8401\n",
      "Recall score: 0.8468\n",
      "Precision score: 0.8351\n",
      "--------------\n"
     ]
    },
    {
     "data": {
      "image/png": "[encoded data removed]",
      "text/plain": [
       "<Figure size 432x288 with 2 Axes>"
      ]
     },
     "metadata": {
      "needs_background": "light"
     },
     "output_type": "display_data"
    },
    {
     "name": "stdout",
     "output_type": "stream",
     "text": [
      "Gradient Boosting\n",
      "Accuracy: 0.8829\n",
      "Confusion matrix:\n",
      "[[92  3]\n",
      " [10  6]]\n",
      "F1 score: 0.8686\n",
      "Recall score: 0.8829\n",
      "Precision score: 0.8680\n",
      "--------------\n"
     ]
    },
    {
     "data": {
      "image/png": "[encoded data removed]",
      "text/plain": [
       "<Figure size 432x288 with 2 Axes>"
      ]
     },
     "metadata": {
      "needs_background": "light"
     },
     "output_type": "display_data"
    }
   ],
   "source": [
    "from sklearn.model_selection import train_test_split\n",
    "from sklearn.linear_model import LogisticRegression\n",
    "from sklearn.neighbors import KNeighborsClassifier\n",
    "from sklearn.tree import DecisionTreeClassifier\n",
    "from sklearn.ensemble import RandomForestClassifier, AdaBoostClassifier, GradientBoostingClassifier\n",
    "from sklearn.metrics import accuracy_score, confusion_matrix, f1_score, recall_score, precision_score\n",
    "import matplotlib.pyplot as plt\n",
    "from sklearn.metrics import confusion_matrix, ConfusionMatrixDisplay\n",
    "\n",
    "# Train and evaluate models\n",
    "models = {\n",
    "    'Logistic Regression': LogisticRegression(random_state=42, max_iter=1000),\n",
    "    'K Nearest Neighbors': KNeighborsClassifier(),\n",
    "    'Decision Tree': DecisionTreeClassifier(random_state=42),\n",
    "    'Random Forest': RandomForestClassifier(random_state=42),\n",
    "    'AdaBoost': AdaBoostClassifier(DecisionTreeClassifier(random_state=42), random_state=42, learning_rate=0.1),\n",
    "    'Gradient Boosting': GradientBoostingClassifier(random_state=42)\n",
    "}\n",
    "\n",
    "for name, model in models.items():\n",
    "    model.fit(X_train, y_train)\n",
    "    y_pred = model.predict(X_test)\n",
    "    acc = accuracy_score(y_test, y_pred)\n",
    "    cm = confusion_matrix(y_test, y_pred)\n",
    "    f1 = f1_score(y_test, y_pred, average='weighted')\n",
    "    recall = recall_score(y_test, y_pred, average='weighted')\n",
    "    precision = precision_score(y_test, y_pred, zero_division=0, average='weighted')\n",
    "    print(name)\n",
    "    print(f\"Accuracy: {acc:.4f}\")\n",
    "    print(f\"Confusion matrix:\\n{cm}\")\n",
    "    print(f\"F1 score: {f1:.4f}\")\n",
    "    print(f\"Recall score: {recall:.4f}\")\n",
    "    print(f\"Precision score: {precision:.4f}\")\n",
    "    print(\"--------------\")    \n",
    "    \n",
    "    # Plot confusion matrix\n",
    "    ConfusionMatrixDisplay.from_estimator(model, X_test, y_test, cmap=plt.cm.Blues)\n",
    "    plt.title(f\"{name} Confusion Matrix\")\n",
    "    plt.show() "
   ]
  },
  {
   "cell_type": "code",
   "execution_count": 5,
   "id": "a07b4f3c",
   "metadata": {},
   "outputs": [
    {
     "name": "stdout",
     "output_type": "stream",
     "text": [
      "                 Model  Accuracy  F1 Score    Recall  Precision\n",
      "0  Logistic Regression  0.846847  0.799356  0.846847  0.785035 \n",
      "1  K Nearest Neighbors  0.855856  0.834744  0.855856  0.828217 \n",
      "2  Decision Tree        0.855856  0.847046  0.855856  0.841478 \n",
      "3  Random Forest        0.855856  0.804746  0.855856  0.810150 \n",
      "4  AdaBoost             0.846847  0.840115  0.846847  0.835052 \n",
      "5  Gradient Boosting    0.882883  0.868567  0.882883  0.868045 \n"
     ]
    }
   ],
   "source": [
    "import pandas as pd\n",
    "\n",
    "# Train and evaluate models\n",
    "models = {\n",
    "    'Logistic Regression': LogisticRegression(random_state=42, max_iter=1000),\n",
    "    'K Nearest Neighbors': KNeighborsClassifier(),\n",
    "    'Decision Tree': DecisionTreeClassifier(random_state=42),\n",
    "    'Random Forest': RandomForestClassifier(random_state=42),\n",
    "    'AdaBoost': AdaBoostClassifier(DecisionTreeClassifier(random_state=42), random_state=42, learning_rate=0.1),\n",
    "    'Gradient Boosting': GradientBoostingClassifier(random_state=42)\n",
    "}\n",
    "\n",
    "table_data = []\n",
    "\n",
    "for name, model in models.items():\n",
    "    model.fit(X_train, y_train)\n",
    "    y_pred = model.predict(X_test)\n",
    "    acc = accuracy_score(y_test, y_pred)\n",
    "    cm = confusion_matrix(y_test, y_pred)\n",
    "    f1 = f1_score(y_test, y_pred, average='weighted')\n",
    "    recall = recall_score(y_test, y_pred, average='weighted')\n",
    "    precision = precision_score(y_test, y_pred, zero_division=0, average='weighted')\n",
    "    table_data.append([name, acc, f1, recall, precision])\n",
    "\n",
    "table = pd.DataFrame(table_data, columns=['Model', 'Accuracy', 'F1 Score', 'Recall', 'Precision'])\n",
    "print(table)\n"
   ]
  },
  {
   "cell_type": "markdown",
   "id": "5c2d10f1",
   "metadata": {},
   "source": [
    "from sklearn.model_selection import cross_val_score\n",
    "from sklearn.ensemble import GradientBoostingClassifier\n",
    "from sklearn.model_selection import KFold\n",
    "from sklearn.model_selection import cross_val_score\n",
    "\n",
    "# Create Gradient Boosting Classifier model\n",
    "model = GradientBoostingClassifier(n_estimators=100)\n",
    "model.fit(X_train,y_train)\n",
    "\n",
    "# make predictions for test data\n",
    "y_pred = model.predict(X_test)\n",
    "\n",
    "# Perform 10-fold cross-validation\n",
    "scores = cross_val_score(model, X_train, y_train, cv=10)\n",
    "\n",
    "# Print the mean and standard deviation of the scores\n",
    "print(\"Cross-validation scores: {}\".format(scores))\n",
    "print(\"Average cross-validation score: {:.2f}\".format(np.mean(scores)))\n",
    "print(\"Standard deviation of cross-validation score: {:.2f}\".format(np.std(scores)))\n"
   ]
  },
  {
   "cell_type": "code",
   "execution_count": 6,
   "id": "d7901c21",
   "metadata": {},
   "outputs": [
    {
     "name": "stdout",
     "output_type": "stream",
     "text": [
      "Cross-validation scores: [0.81632653 0.85714286 0.91836735 0.89795918 0.91836735 0.79591837\n",
      " 0.85714286 0.85416667 0.9375     0.875     ]\n",
      "Average cross-validation score: 0.87\n"
     ]
    }
   ],
   "source": [
    "from sklearn.model_selection import cross_val_score\n",
    "from sklearn.ensemble import GradientBoostingClassifier\n",
    "\n",
    "# Create Gradient Boosting Classifier model\n",
    "model = GradientBoostingClassifier(n_estimators=100)\n",
    "model.fit(X_train,y_train)\n",
    "\n",
    "models = []\n",
    "models.append(('Gradient Boost', model))\n",
    "\n",
    "# make predictions for test data\n",
    "y_pred = model.predict(X_test)\n",
    "\n",
    "# Perform 10-fold cross-validation\n",
    "scores = cross_val_score(model, X_train, y_train, cv=10)\n",
    "\n",
    "# Print the mean and standard deviation of the scores\n",
    "print(\"Cross-validation scores: {}\".format(scores))\n",
    "print(\"Average cross-validation score: {:.2f}\".format(scores.mean()))\n"
   ]
  },
  {
   "cell_type": "code",
   "execution_count": null,
   "id": "30b8aa2a",
   "metadata": {},
   "outputs": [],
   "source": []
  },
  {
   "cell_type": "code",
   "execution_count": null,
   "id": "63c082fb",
   "metadata": {},
   "outputs": [],
   "source": []
  }
 ],
 "metadata": {
  "kernelspec": {
   "display_name": "Python 3",
   "language": "python",
   "name": "python3"
  },
  "language_info": {
   "codemirror_mode": {
    "name": "ipython",
    "version": 3
   },
   "file_extension": ".py",
   "mimetype": "text/x-python",
   "name": "python",
   "nbconvert_exporter": "python",
   "pygments_lexer": "ipython3",
   "version": "3.8.8"
  }
 },
 "nbformat": 4,
 "nbformat_minor": 5
}
